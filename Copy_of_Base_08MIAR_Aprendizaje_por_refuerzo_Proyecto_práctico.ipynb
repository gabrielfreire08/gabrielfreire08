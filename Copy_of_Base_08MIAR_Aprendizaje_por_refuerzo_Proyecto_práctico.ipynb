{
  "nbformat": 4,
  "nbformat_minor": 0,
  "metadata": {
    "accelerator": "GPU",
    "colab": {
      "name": "Copy of Base - 08MIAR Aprendizaje por refuerzo - Proyecto práctico.ipynb",
      "provenance": [],
      "collapsed_sections": [],
      "include_colab_link": true
    },
    "kernelspec": {
      "display_name": "Python 3",
      "language": "python",
      "name": "python3"
    },
    "language_info": {
      "codemirror_mode": {
        "name": "ipython",
        "version": 3
      },
      "file_extension": ".py",
      "mimetype": "text/x-python",
      "name": "python",
      "nbconvert_exporter": "python",
      "pygments_lexer": "ipython3",
      "version": "3.7.9"
    }
  },
  "cells": [
    {
      "cell_type": "markdown",
      "metadata": {
        "id": "view-in-github",
        "colab_type": "text"
      },
      "source": [
        "<a href=\"https://colab.research.google.com/github/gabrielfreire08/gabrielfreire08/blob/main/Copy_of_Base_08MIAR_Aprendizaje_por_refuerzo_Proyecto_pr%C3%A1ctico.ipynb\" target=\"_parent\"><img src=\"https://colab.research.google.com/assets/colab-badge.svg\" alt=\"Open In Colab\"/></a>"
      ]
    },
    {
      "cell_type": "markdown",
      "metadata": {
        "id": "JX95X2zBKyzW"
      },
      "source": [
        "### Proyecto práctico"
      ]
    },
    {
      "cell_type": "markdown",
      "metadata": {
        "id": "nk0Ok-hAKyzZ"
      },
      "source": [
        "Consideraciones a tener en cuenta:\n",
        "\n",
        "- El entorno sobre el que trabajaremos será _SpaceInvaders-v0_ y el algoritmo que usaremos será _DQN_.\n",
        "\n",
        "- Para nuestro ejercicio, una solución óptima será alcanzada cuando el agente consiga una **media de recompensa por encima de 20 puntos en modo test**. Por ello, esta media de la recompensa se calculará a partir del código de test en la última celda del notebook."
      ]
    },
    {
      "cell_type": "markdown",
      "metadata": {
        "id": "3v8pAUZGKyzb"
      },
      "source": [
        "Este proyecto práctico consta de tres partes:\n",
        "\n",
        "   1) Implementar la red neuronal que se usará en la solución\n",
        "    \n",
        "   2) Implementar las distintas piezas de la solución DQN\n",
        "    \n",
        "   3) Justificar la respuesta en relación a los resultados obtenidos"
      ]
    },
    {
      "cell_type": "markdown",
      "metadata": {
        "id": "RkSBr0nyKyzc"
      },
      "source": [
        "IMPORTANTE:\n",
        "\n",
        "- Si no se consigue una puntuación óptima, responder sobre la mejor puntuación obtenida.\n",
        "\n",
        "- Para entrenamientos largos, recordad que podéis usar checkpoints de vuestros modelos para retomar los entrenamientos. En este caso, recordad cambiar los parámetros adecuadamente (sobre todo los relacionados con el proceso de exploración).\n",
        "\n",
        "- Tened en cuenta que las versiones de librerías recomendadas son Tensorflow==1.13.1, Keras==2.2.4 y keras-rl==0.4.2"
      ]
    },
    {
      "cell_type": "markdown",
      "metadata": {
        "id": "PUZR_2c0l-Io"
      },
      "source": [
        "# 0) Configuraciones y carga de entorno"
      ]
    },
    {
      "cell_type": "markdown",
      "metadata": {
        "id": "Yz6QFmIMmIgW"
      },
      "source": [
        "## Instalar los módulos necesarios para el proyecto"
      ]
    },
    {
      "cell_type": "code",
      "metadata": {
        "colab": {
          "base_uri": "https://localhost:8080/"
        },
        "id": "jIF6tPusg0Mj",
        "outputId": "2bab8282-4810-466d-807a-a07767cb33a0"
      },
      "source": [
        "from google.colab import drive\n",
        "drive.mount('/content/drive')"
      ],
      "execution_count": 1,
      "outputs": [
        {
          "output_type": "stream",
          "name": "stdout",
          "text": [
            "Mounted at /content/drive\n"
          ]
        }
      ]
    },
    {
      "cell_type": "code",
      "metadata": {
        "id": "VPz9EYilKyzc"
      },
      "source": [
        "%%capture\n",
        "!pip install gym==0.17.3\n",
        "!pip install h5py==2.10.0\n",
        "!pip install Pillow\n",
        "!pip install gym[atari]\n",
        "!pip install keras-rl==0.4.2\n",
        "!pip install tensorflow==1.13.1\n",
        "!pip install keras==2.2.4\n",
        "!pip install jupyter\n",
        "!pip install torch\n",
        "!pip freeze"
      ],
      "execution_count": 2,
      "outputs": []
    },
    {
      "cell_type": "code",
      "metadata": {
        "colab": {
          "base_uri": "https://localhost:8080/",
          "height": 264
        },
        "id": "byGQwaEuLU9j",
        "outputId": "32567ef6-fb0f-426a-8290-5015dead408d"
      },
      "source": [
        "import tensorflow\n",
        "tensorflow.__version__"
      ],
      "execution_count": 3,
      "outputs": [
        {
          "output_type": "stream",
          "name": "stderr",
          "text": [
            "/usr/local/lib/python3.7/dist-packages/tensorflow/python/framework/dtypes.py:526: FutureWarning: Passing (type, 1) or '1type' as a synonym of type is deprecated; in a future version of numpy, it will be understood as (type, (1,)) / '(1,)type'.\n",
            "  _np_qint8 = np.dtype([(\"qint8\", np.int8, 1)])\n",
            "/usr/local/lib/python3.7/dist-packages/tensorflow/python/framework/dtypes.py:527: FutureWarning: Passing (type, 1) or '1type' as a synonym of type is deprecated; in a future version of numpy, it will be understood as (type, (1,)) / '(1,)type'.\n",
            "  _np_quint8 = np.dtype([(\"quint8\", np.uint8, 1)])\n",
            "/usr/local/lib/python3.7/dist-packages/tensorflow/python/framework/dtypes.py:528: FutureWarning: Passing (type, 1) or '1type' as a synonym of type is deprecated; in a future version of numpy, it will be understood as (type, (1,)) / '(1,)type'.\n",
            "  _np_qint16 = np.dtype([(\"qint16\", np.int16, 1)])\n",
            "/usr/local/lib/python3.7/dist-packages/tensorflow/python/framework/dtypes.py:529: FutureWarning: Passing (type, 1) or '1type' as a synonym of type is deprecated; in a future version of numpy, it will be understood as (type, (1,)) / '(1,)type'.\n",
            "  _np_quint16 = np.dtype([(\"quint16\", np.uint16, 1)])\n",
            "/usr/local/lib/python3.7/dist-packages/tensorflow/python/framework/dtypes.py:530: FutureWarning: Passing (type, 1) or '1type' as a synonym of type is deprecated; in a future version of numpy, it will be understood as (type, (1,)) / '(1,)type'.\n",
            "  _np_qint32 = np.dtype([(\"qint32\", np.int32, 1)])\n",
            "/usr/local/lib/python3.7/dist-packages/tensorflow/python/framework/dtypes.py:535: FutureWarning: Passing (type, 1) or '1type' as a synonym of type is deprecated; in a future version of numpy, it will be understood as (type, (1,)) / '(1,)type'.\n",
            "  np_resource = np.dtype([(\"resource\", np.ubyte, 1)])\n"
          ]
        },
        {
          "output_type": "execute_result",
          "data": {
            "application/vnd.google.colaboratory.intrinsic+json": {
              "type": "string"
            },
            "text/plain": [
              "'1.13.1'"
            ]
          },
          "metadata": {},
          "execution_count": 3
        }
      ]
    },
    {
      "cell_type": "markdown",
      "metadata": {
        "id": "DPDj01-ZKyze"
      },
      "source": [
        "## Importar librerías"
      ]
    },
    {
      "cell_type": "code",
      "metadata": {
        "id": "gz2J7lznKyze"
      },
      "source": [
        "from __future__ import division\n",
        "\n",
        "from PIL import Image\n",
        "import numpy as np\n",
        "import gym\n",
        "import random\n",
        "\n",
        "from keras.models import Sequential\n",
        "from keras.layers import Dense, Activation, Flatten, Convolution2D, Permute, BatchNormalization, Dropout\n",
        "from keras.optimizers import Adam, Nadam\n",
        "import keras.backend as K\n",
        "\n",
        "from rl.agents.dqn import DQNAgent\n",
        "from rl.policy import LinearAnnealedPolicy, BoltzmannQPolicy, EpsGreedyQPolicy\n",
        "from rl.memory import SequentialMemory\n",
        "from rl.core import Processor\n",
        "from rl.callbacks import FileLogger, ModelIntervalCheckpoint\n",
        "\n",
        "import matplotlib.pyplot as plt\n",
        "from IPython import display as ipythondisplay"
      ],
      "execution_count": 14,
      "outputs": []
    },
    {
      "cell_type": "markdown",
      "metadata": {
        "id": "ZXGVm06dKyzf"
      },
      "source": [
        "## Cargar el entorno"
      ]
    },
    {
      "cell_type": "code",
      "metadata": {
        "id": "-LANHlVYLhNc"
      },
      "source": [
        "%%capture\n",
        "# Vamos a descargar el rom del juego\n",
        "! wget http://www.atarimania.com/roms/Roms.rar\n",
        "! mkdir /content/ROM/\n",
        "! unrar e /content/Roms.rar /content/ROM/\n",
        "! python -m atari_py.import_roms /content/ROM/"
      ],
      "execution_count": 5,
      "outputs": []
    },
    {
      "cell_type": "markdown",
      "metadata": {
        "id": "SsbPIEa-WG6-"
      },
      "source": [
        "Cargaremos algunos utilitarios para que nos faciliten la visualización del juego en Colab."
      ]
    },
    {
      "cell_type": "code",
      "metadata": {
        "id": "-teQUDjfSLLH"
      },
      "source": [
        "!apt-get install -y xvfb python-opengl > /dev/null 2>&1\n",
        "!pip install gym pyvirtualdisplay > /dev/null 2>&1"
      ],
      "execution_count": 6,
      "outputs": []
    },
    {
      "cell_type": "code",
      "metadata": {
        "colab": {
          "base_uri": "https://localhost:8080/"
        },
        "id": "fRbfzC9vSvNT",
        "outputId": "6c142d2b-e847-401e-9d53-294c73cc6c01"
      },
      "source": [
        "from pyvirtualdisplay import Display\n",
        "display = Display(visible=0, size=(400, 300))\n",
        "display.start()"
      ],
      "execution_count": 7,
      "outputs": [
        {
          "output_type": "execute_result",
          "data": {
            "text/plain": [
              "<pyvirtualdisplay.display.Display at 0x7f9bef536c50>"
            ]
          },
          "metadata": {},
          "execution_count": 7
        }
      ]
    },
    {
      "cell_type": "code",
      "metadata": {
        "colab": {
          "base_uri": "https://localhost:8080/",
          "height": 269
        },
        "id": "MgdwYQi0S0tH",
        "outputId": "4bd14b9a-0ff7-444c-b464-15c2d8ed3ef2"
      },
      "source": [
        "# Cargamos el entorno del juego\n",
        "env = gym.make(\"SpaceInvaders-v0\")\n",
        "env.reset()\n",
        "prev_screen = env.render(mode='rgb_array')\n",
        "plt.imshow(prev_screen)\n",
        "\n",
        "# Hacemos una previsualización aleatoria de frames\n",
        "for i in range(50):\n",
        "  action = env.action_space.sample()\n",
        "  obs, reward, done, info = env.step(action)\n",
        "  screen = env.render(mode='rgb_array')\n",
        "  \n",
        "  plt.imshow(screen)\n",
        "  ipythondisplay.clear_output(wait=True)\n",
        "  ipythondisplay.display(plt.gcf())\n",
        "\n",
        "  if done:\n",
        "    break\n",
        "    \n",
        "ipythondisplay.clear_output(wait=True)\n",
        "env.close()"
      ],
      "execution_count": 8,
      "outputs": [
        {
          "output_type": "display_data",
          "data": {
            "image/png": "[encoded data removed]",
            "text/plain": [
              "<Figure size 432x288 with 1 Axes>"
            ]
          },
          "metadata": {
            "needs_background": "light"
          }
        }
      ]
    },
    {
      "cell_type": "markdown",
      "metadata": {
        "id": "JQKqaOUaenxf"
      },
      "source": [
        "Cargamos el entorno del juego, en este caso SpaceInvaders"
      ]
    },
    {
      "cell_type": "code",
      "metadata": {
        "id": "F9QgbNgwejpU",
        "colab": {
          "base_uri": "https://localhost:8080/"
        },
        "outputId": "4d50af71-26b2-46ca-ea98-bb7113191702"
      },
      "source": [
        "env = gym.make('SpaceInvaders-v0')\n",
        "height, width, channels = env.observation_space.shape\n",
        "actions = env.action_space.n\n",
        "print(f\"Acciones que puede tomar: {env.unwrapped.get_action_meanings()}\")"
      ],
      "execution_count": 9,
      "outputs": [
        {
          "output_type": "stream",
          "name": "stdout",
          "text": [
            "Acciones que puede tomar: ['NOOP', 'FIRE', 'RIGHT', 'LEFT', 'RIGHTFIRE', 'LEFTFIRE']\n"
          ]
        }
      ]
    },
    {
      "cell_type": "markdown",
      "metadata": {
        "id": "PQSGEbNDVh7A"
      },
      "source": [
        "Veamos las acciones que tiene disponible el agente. Tenemos 6 acciones:\n",
        "* No hacer nada\n",
        "* Disparar\n",
        "* Moverse a la izquierda\n",
        "* Moverse a la derecha\n",
        "* Moverse a la izquierda y disparar\n",
        "* Moverse a la derecha y disparar"
      ]
    },
    {
      "cell_type": "code",
      "metadata": {
        "colab": {
          "base_uri": "https://localhost:8080/"
        },
        "id": "Cq2Dlmk8OfXe",
        "outputId": "ffe24020-6e23-4310-ce81-b7141b0c0a60"
      },
      "source": [
        "env.action_space"
      ],
      "execution_count": 10,
      "outputs": [
        {
          "output_type": "execute_result",
          "data": {
            "text/plain": [
              "Discrete(6)"
            ]
          },
          "metadata": {},
          "execution_count": 10
        }
      ]
    },
    {
      "cell_type": "code",
      "metadata": {
        "colab": {
          "base_uri": "https://localhost:8080/"
        },
        "id": "BNqJWn1-UsDD",
        "outputId": "022997a4-3d4c-46ae-bf95-55ac5189fc6a"
      },
      "source": [
        "env.env.get_action_meanings()"
      ],
      "execution_count": 11,
      "outputs": [
        {
          "output_type": "execute_result",
          "data": {
            "text/plain": [
              "['NOOP', 'FIRE', 'RIGHT', 'LEFT', 'RIGHTFIRE', 'LEFTFIRE']"
            ]
          },
          "metadata": {},
          "execution_count": 11
        }
      ]
    },
    {
      "cell_type": "code",
      "metadata": {
        "id": "4Fn-YSlp5By8"
      },
      "source": [
        "# Vamos a trabajar con un tamaño de frame más pequeño\n",
        "# para que sea más manejable sin perder la proporción\n",
        "INPUT_SHAPE=(88,80)\n",
        "WINDOW_LENGTH = 4\n",
        "\n",
        "env_name = 'SpaceInvaders-v0'\n",
        "env = gym.make(env_name)\n",
        "\n",
        "np.random.seed(123)\n",
        "env.seed(123)\n",
        "nb_actions = env.action_space.n"
      ],
      "execution_count": 12,
      "outputs": []
    },
    {
      "cell_type": "markdown",
      "metadata": {
        "id": "eMdvh-oCeW38"
      },
      "source": [
        "Aquí estamos probando como se comportaría el juego si lo dejamos que tome acciones aleatorias"
      ]
    },
    {
      "cell_type": "code",
      "metadata": {
        "id": "-R2suD3CeV2F",
        "colab": {
          "base_uri": "https://localhost:8080/"
        },
        "outputId": "f3fa24ce-de9e-4cda-c802-329d721335f9"
      },
      "source": [
        "episodes = 5\n",
        "for episode in range(1, episodes+1):\n",
        "    state = env.reset()\n",
        "    done = False\n",
        "    score = 0 \n",
        "    \n",
        "    while not done:\n",
        "        env.render()\n",
        "        action = random.choice([0,1,2,3,4,5])\n",
        "        n_state, reward, done, info = env.step(action)\n",
        "        score+=reward\n",
        "    print('Episode:{} Score:{}'.format(episode, score))\n",
        "env.close()"
      ],
      "execution_count": 15,
      "outputs": [
        {
          "output_type": "stream",
          "name": "stdout",
          "text": [
            "Episode:1 Score:30.0\n",
            "Episode:2 Score:85.0\n",
            "Episode:3 Score:80.0\n",
            "Episode:4 Score:285.0\n",
            "Episode:5 Score:35.0\n"
          ]
        }
      ]
    },
    {
      "cell_type": "markdown",
      "metadata": {
        "id": "hDw4fekUokUa"
      },
      "source": [
        "## Pre-procesado de Frames y Procesador Atari"
      ]
    },
    {
      "cell_type": "markdown",
      "metadata": {
        "id": "PknEMNf0nGS9"
      },
      "source": [
        "Vamos a implementar una función de pre-procesado de frames para asegurar un nivel de análisis de patrones por parte de la red neuronal"
      ]
    },
    {
      "cell_type": "code",
      "metadata": {
        "id": "kBiBcix-2T49"
      },
      "source": [
        "color = np.array([210, 164, 74]).mean()\n",
        "\n",
        "def preprocess_frame(obs):\n",
        "    # Cortaremos la parte \"jugable\" (sin el marcador) y reduciremos el número de canales\n",
        "    img = obs[25:201:2, ::2]\n",
        "\n",
        "    # Convertimos a escala de grises\n",
        "    img = img.mean(axis=2)\n",
        "\n",
        "    # Mejoramos el contraste\n",
        "    img[img==color] = 0\n",
        "\n",
        "    # Normalizamos la imagen\n",
        "    img = (img - 128) / 128 - 1\n",
        "\n",
        "    # Rescalamos la imagen a 88*80*1\n",
        "    img = img.reshape(88,80)\n",
        "\n",
        "    return img "
      ],
      "execution_count": 16,
      "outputs": []
    },
    {
      "cell_type": "code",
      "metadata": {
        "colab": {
          "base_uri": "https://localhost:8080/",
          "height": 281
        },
        "id": "ggV_4zbh2mZL",
        "outputId": "cbef0563-851d-42fb-b063-f7acd82a9cd5"
      },
      "source": [
        "observation = env.reset()\n",
        "# Veamos como era la imagen original\n",
        "for i in range(11):\n",
        "  if i > 9:\n",
        "    plt.imshow(observation)\n",
        "    plt.title(\"Imagen Original\")\n",
        "    plt.show()\n",
        "  observation, _, _, _ = env.step(1)"
      ],
      "execution_count": 17,
      "outputs": [
        {
          "output_type": "display_data",
          "data": {
            "image/png": "[encoded data removed]",
            "text/plain": [
              "<Figure size 432x288 with 1 Axes>"
            ]
          },
          "metadata": {
            "needs_background": "light"
          }
        }
      ]
    },
    {
      "cell_type": "code",
      "metadata": {
        "colab": {
          "base_uri": "https://localhost:8080/",
          "height": 281
        },
        "id": "XRWmQnDF2n1I",
        "outputId": "f5be7160-c7e2-4f2a-ee81-0c0a924f9b4a"
      },
      "source": [
        "# Preprocessed Game Screen\n",
        "obs_preprocesado = preprocess_frame(observation)\n",
        "plt.imshow(obs_preprocesado)\n",
        "plt.title(\"Imagen Preprocesada\")\n",
        "plt.show()"
      ],
      "execution_count": 18,
      "outputs": [
        {
          "output_type": "display_data",
          "data": {
            "image/png": "[encoded data removed]",
            "text/plain": [
              "<Figure size 432x288 with 1 Axes>"
            ]
          },
          "metadata": {
            "needs_background": "light"
          }
        }
      ]
    },
    {
      "cell_type": "markdown",
      "metadata": {
        "id": "r3YIMNgcovIo"
      },
      "source": [
        "Ahora, lo último que tenemos que hacer en esta sección es implementar el preprocesado dentro de nuestro procesador Atari."
      ]
    },
    {
      "cell_type": "code",
      "metadata": {
        "id": "HLLqWXnz3B36"
      },
      "source": [
        "class AtariProcessor(Processor):\n",
        "    def process_observation(self, observation):\n",
        "        assert observation.ndim == 3  # (height, width, channel)\n",
        "        img = preprocess_frame(observation)\n",
        "        processed_observation = np.array(img)\n",
        "        assert processed_observation.shape == INPUT_SHAPE\n",
        "        return processed_observation.astype('uint8')\n",
        "\n",
        "    def process_state_batch(self, batch):\n",
        "        processed_batch = batch.astype('float32') / 255.\n",
        "        return processed_batch\n",
        "\n",
        "    def process_reward(self, reward):\n",
        "        return np.clip(reward, -1., 1.)"
      ],
      "execution_count": 19,
      "outputs": []
    },
    {
      "cell_type": "markdown",
      "metadata": {
        "id": "2zoZLdbfpF8y"
      },
      "source": [
        "# 1) Implementar la red neuronal de la solución\n"
      ]
    },
    {
      "cell_type": "code",
      "metadata": {
        "colab": {
          "base_uri": "https://localhost:8080/"
        },
        "id": "J6GR3IId4EOC",
        "outputId": "aa8e61a3-8791-4dce-d08d-79a742c87c20"
      },
      "source": [
        "# Definimos nuestro modelo de red neuronal. \n",
        "# Usaremos como base el modelo del artículo de Mnih et al. (2015).\n",
        "input_shape = (WINDOW_LENGTH,) + INPUT_SHAPE\n",
        "model = Sequential()\n",
        "model.add(Permute((2, 3, 1), input_shape=input_shape))\n",
        "# Bloque convolucional\n",
        "model.add(Convolution2D(32, (8, 8), strides=(4, 4)))\n",
        "model.add(Activation('relu'))\n",
        "model.add(Convolution2D(64, (4, 4), strides=(2, 2)))\n",
        "model.add(Activation('relu'))\n",
        "model.add(Convolution2D(64, (3, 3), strides=(1, 1)))\n",
        "model.add(Activation('relu'))\n",
        "# Top model\n",
        "model.add(Flatten())\n",
        "model.add(Dense(512))\n",
        "model.add(Activation('relu'))\n",
        "model.add(Dense(nb_actions))\n",
        "model.add(Activation('linear'))\n",
        "print(model.summary())"
      ],
      "execution_count": 20,
      "outputs": [
        {
          "output_type": "stream",
          "name": "stdout",
          "text": [
            "WARNING:tensorflow:From /usr/local/lib/python3.7/dist-packages/tensorflow/python/framework/op_def_library.py:263: colocate_with (from tensorflow.python.framework.ops) is deprecated and will be removed in a future version.\n",
            "Instructions for updating:\n",
            "Colocations handled automatically by placer.\n",
            "_________________________________________________________________\n",
            "Layer (type)                 Output Shape              Param #   \n",
            "=================================================================\n",
            "permute_1 (Permute)          (None, 88, 80, 4)         0         \n",
            "_________________________________________________________________\n",
            "conv2d_1 (Conv2D)            (None, 21, 19, 32)        8224      \n",
            "_________________________________________________________________\n",
            "activation_1 (Activation)    (None, 21, 19, 32)        0         \n",
            "_________________________________________________________________\n",
            "conv2d_2 (Conv2D)            (None, 9, 8, 64)          32832     \n",
            "_________________________________________________________________\n",
            "activation_2 (Activation)    (None, 9, 8, 64)          0         \n",
            "_________________________________________________________________\n",
            "conv2d_3 (Conv2D)            (None, 7, 6, 64)          36928     \n",
            "_________________________________________________________________\n",
            "activation_3 (Activation)    (None, 7, 6, 64)          0         \n",
            "_________________________________________________________________\n",
            "flatten_1 (Flatten)          (None, 2688)              0         \n",
            "_________________________________________________________________\n",
            "dense_1 (Dense)              (None, 512)               1376768   \n",
            "_________________________________________________________________\n",
            "activation_4 (Activation)    (None, 512)               0         \n",
            "_________________________________________________________________\n",
            "dense_2 (Dense)              (None, 6)                 3078      \n",
            "_________________________________________________________________\n",
            "activation_5 (Activation)    (None, 6)                 0         \n",
            "=================================================================\n",
            "Total params: 1,457,830\n",
            "Trainable params: 1,457,830\n",
            "Non-trainable params: 0\n",
            "_________________________________________________________________\n",
            "None\n"
          ]
        }
      ]
    },
    {
      "cell_type": "markdown",
      "metadata": {
        "id": "UmW1LuFIp2YN"
      },
      "source": [
        "# 2) Implementar las distintas piezas de la solución DQN"
      ]
    },
    {
      "cell_type": "markdown",
      "metadata": {
        "id": "7nf83J9-qIhL"
      },
      "source": [
        "## Definir el tamaño de memoria"
      ]
    },
    {
      "cell_type": "markdown",
      "metadata": {
        "id": "kSHi_nZmqP4L"
      },
      "source": [
        "Para el proyecto vamos a usar una memoria de 1000000."
      ]
    },
    {
      "cell_type": "code",
      "metadata": {
        "id": "B14hyyTC4Rvb"
      },
      "source": [
        "memory = SequentialMemory(limit=1000000, window_length=WINDOW_LENGTH)\n",
        "processor = AtariProcessor()"
      ],
      "execution_count": 21,
      "outputs": []
    },
    {
      "cell_type": "markdown",
      "metadata": {
        "id": "W8T5SG_zqYYz"
      },
      "source": [
        "## Definir la estrategia o policy"
      ]
    },
    {
      "cell_type": "markdown",
      "metadata": {
        "id": "hpEuHtrcqtgy"
      },
      "source": [
        "Definiremos nuestra policy como una EpsilonGreedyQPolicy, con un valor epsilon mínimo de 0.1 y uno máximo de 1. La variación será por 1000000 de steps (que coincide con el número de steps que vamos a usar en el entrenamiento)"
      ]
    },
    {
      "cell_type": "code",
      "metadata": {
        "id": "ypDR8M2A4YfU"
      },
      "source": [
        "policy = LinearAnnealedPolicy(EpsGreedyQPolicy(), attr='eps',\n",
        "                              value_max=1., value_min=.1, value_test=.05,\n",
        "                              nb_steps=1000000)"
      ],
      "execution_count": 22,
      "outputs": []
    },
    {
      "cell_type": "markdown",
      "metadata": {
        "id": "De0OQyM0rakH"
      },
      "source": [
        "## Configurar agente DQN"
      ]
    },
    {
      "cell_type": "markdown",
      "metadata": {
        "id": "ToU-Mxq1rilH"
      },
      "source": [
        "Configuramos nuestro modelo, número de acciones, política y memoria previamente definidos. Definiremos un calentamiento de 50000 steps en el cual el modelo no actualizará nada, nuestro gamma o discount rate tendrá un valor de 0.99 para darle mucha importancia a las recompensas de estados previos. Nuestro modelo se actualizará cada 10000 steps y el intervalo de entrenamiento lo definiremos en 6 acciones."
      ]
    },
    {
      "cell_type": "code",
      "metadata": {
        "id": "1yfelQlt4d4b"
      },
      "source": [
        "dqn = DQNAgent(model=model, nb_actions=nb_actions, policy=policy,\n",
        "               memory=memory, processor=processor,\n",
        "               nb_steps_warmup=50000, gamma=.99,\n",
        "               target_model_update=10000,\n",
        "               train_interval=30)\n",
        "\n",
        "# Usaremos un optimizador Nadam con learning rate de 0.003.\n",
        "#dqn.compile(Nadam(lr=.003), metrics=['mse'])\n",
        "dqn.compile(Adam(lr=.00025), metrics=['mae'])"
      ],
      "execution_count": 23,
      "outputs": []
    },
    {
      "cell_type": "markdown",
      "metadata": {
        "id": "ppxB6W8Ds0Fs"
      },
      "source": [
        "# Entrenamiento del agente"
      ]
    },
    {
      "cell_type": "code",
      "metadata": {
        "colab": {
          "base_uri": "https://localhost:8080/"
        },
        "id": "lJcnECr04jFj",
        "outputId": "d3bc954a-bf95-42b0-b76d-97aedcfa7682"
      },
      "source": [
        "# Configuramos los callbacks que vamos a necesitar\n",
        "weights_filename = '/content/drive/MyDrive/ProyectoRL/dqn_{}_weights.h5'.format(env_name)\n",
        "checkpoint_weights_filename = 'dqn_' + env_name + '_weights_{step}.h5'\n",
        "log_filename = 'dqn_{}_log.json'.format(env_name)\n",
        "callbacks = [ModelIntervalCheckpoint(checkpoint_weights_filename, interval=250000)]\n",
        "callbacks += [FileLogger(log_filename, interval=100)]\n",
        "\n",
        "# Iniciamos el entrenamiento del agente\n",
        "dqn.fit(env, callbacks=callbacks, nb_steps=1750000, log_interval=10000, visualize=False)\n",
        "\n",
        "# Guardamos los pesos\n",
        "dqn.save_weights(weights_filename, overwrite=True)"
      ],
      "execution_count": null,
      "outputs": [
        {
          "output_type": "stream",
          "name": "stdout",
          "text": [
            "Training for 1750000 steps ...\n",
            "Interval 1 (0 steps performed)\n",
            "10000/10000 [==============================] - 39s 4ms/step - reward: 0.0128\n",
            "14 episodes - episode_reward: 9.071 [4.000, 16.000] - ale.lives: 2.176\n",
            "\n",
            "Interval 2 (10000 steps performed)\n",
            "10000/10000 [==============================] - 39s 4ms/step - reward: 0.0121\n",
            "12 episodes - episode_reward: 9.833 [4.000, 12.000] - ale.lives: 2.109\n",
            "\n",
            "Interval 3 (20000 steps performed)\n",
            "10000/10000 [==============================] - 39s 4ms/step - reward: 0.0130\n",
            "15 episodes - episode_reward: 8.133 [4.000, 14.000] - ale.lives: 1.989\n",
            "\n",
            "Interval 4 (30000 steps performed)\n",
            "10000/10000 [==============================] - 39s 4ms/step - reward: 0.0125\n",
            "14 episodes - episode_reward: 9.214 [3.000, 19.000] - ale.lives: 2.184\n",
            "\n",
            "Interval 5 (40000 steps performed)\n",
            "10000/10000 [==============================] - 39s 4ms/step - reward: 0.0119\n",
            "17 episodes - episode_reward: 7.294 [2.000, 13.000] - ale.lives: 2.193\n",
            "\n",
            "Interval 6 (50000 steps performed)\n",
            "    1/10000 [..............................] - ETA: 3:00 - reward: 0.0000e+00WARNING:tensorflow:From /usr/local/lib/python3.7/dist-packages/tensorflow/python/ops/math_ops.py:3066: to_int32 (from tensorflow.python.ops.math_ops) is deprecated and will be removed in a future version.\n",
            "Instructions for updating:\n",
            "Use tf.cast instead.\n",
            "10000/10000 [==============================] - 90s 9ms/step - reward: 0.0148\n",
            "15 episodes - episode_reward: 10.000 [3.000, 26.000] - loss: 0.007 - mean_absolute_error: 0.019 - mean_q: 0.018 - mean_eps: 0.951 - ale.lives: 2.116\n",
            "\n",
            "Interval 7 (60000 steps performed)\n",
            "10000/10000 [==============================] - 96s 10ms/step - reward: 0.0148\n",
            "14 episodes - episode_reward: 10.571 [6.000, 18.000] - loss: 0.006 - mean_absolute_error: 0.009 - mean_q: -0.001 - mean_eps: 0.942 - ale.lives: 2.087\n",
            "\n",
            "Interval 8 (70000 steps performed)\n",
            "10000/10000 [==============================] - 94s 9ms/step - reward: 0.0137\n",
            "13 episodes - episode_reward: 10.077 [3.000, 22.000] - loss: 0.006 - mean_absolute_error: 0.010 - mean_q: 0.012 - mean_eps: 0.932 - ale.lives: 2.177\n",
            "\n",
            "Interval 9 (80000 steps performed)\n",
            "10000/10000 [==============================] - 96s 10ms/step - reward: 0.0141\n",
            "14 episodes - episode_reward: 10.357 [4.000, 21.000] - loss: 0.006 - mean_absolute_error: 0.023 - mean_q: 0.027 - mean_eps: 0.924 - ale.lives: 1.998\n",
            "\n",
            "Interval 10 (90000 steps performed)\n",
            "10000/10000 [==============================] - 93s 9ms/step - reward: 0.0129\n",
            "12 episodes - episode_reward: 10.667 [4.000, 19.000] - loss: 0.006 - mean_absolute_error: 0.036 - mean_q: 0.044 - mean_eps: 0.915 - ale.lives: 2.007\n",
            "\n",
            "Interval 11 (100000 steps performed)\n",
            "10000/10000 [==============================] - 99s 10ms/step - reward: 0.0121\n",
            "16 episodes - episode_reward: 7.812 [3.000, 17.000] - loss: 0.006 - mean_absolute_error: 0.051 - mean_q: 0.063 - mean_eps: 0.906 - ale.lives: 2.133\n",
            "\n",
            "Interval 12 (110000 steps performed)\n",
            "10000/10000 [==============================] - 96s 10ms/step - reward: 0.0133\n",
            "13 episodes - episode_reward: 9.385 [4.000, 18.000] - loss: 0.007 - mean_absolute_error: 0.061 - mean_q: 0.076 - mean_eps: 0.897 - ale.lives: 2.293\n",
            "\n",
            "Interval 13 (120000 steps performed)\n",
            "10000/10000 [==============================] - 96s 10ms/step - reward: 0.0150\n",
            "13 episodes - episode_reward: 10.769 [3.000, 21.000] - loss: 0.007 - mean_absolute_error: 0.071 - mean_q: 0.087 - mean_eps: 0.888 - ale.lives: 2.131\n",
            "\n",
            "Interval 14 (130000 steps performed)\n",
            "10000/10000 [==============================] - 94s 9ms/step - reward: 0.0132\n",
            "15 episodes - episode_reward: 9.933 [3.000, 21.000] - loss: 0.007 - mean_absolute_error: 0.082 - mean_q: 0.101 - mean_eps: 0.879 - ale.lives: 2.048\n",
            "\n",
            "Interval 15 (140000 steps performed)\n",
            "10000/10000 [==============================] - 98s 10ms/step - reward: 0.0173\n",
            "11 episodes - episode_reward: 14.818 [7.000, 27.000] - loss: 0.007 - mean_absolute_error: 0.099 - mean_q: 0.122 - mean_eps: 0.870 - ale.lives: 2.231\n",
            "\n",
            "Interval 16 (150000 steps performed)\n",
            "10000/10000 [==============================] - 103s 10ms/step - reward: 0.0149\n",
            "14 episodes - episode_reward: 10.714 [6.000, 20.000] - loss: 0.007 - mean_absolute_error: 0.106 - mean_q: 0.130 - mean_eps: 0.861 - ale.lives: 2.000\n",
            "\n",
            "Interval 17 (160000 steps performed)\n",
            "10000/10000 [==============================] - 99s 10ms/step - reward: 0.0187\n",
            "12 episodes - episode_reward: 16.250 [4.000, 40.000] - loss: 0.007 - mean_absolute_error: 0.119 - mean_q: 0.146 - mean_eps: 0.852 - ale.lives: 2.081\n",
            "\n",
            "Interval 18 (170000 steps performed)\n",
            "10000/10000 [==============================] - 103s 10ms/step - reward: 0.0121\n",
            "13 episodes - episode_reward: 8.769 [1.000, 17.000] - loss: 0.006 - mean_absolute_error: 0.124 - mean_q: 0.152 - mean_eps: 0.843 - ale.lives: 1.954\n",
            "\n",
            "Interval 19 (180000 steps performed)\n",
            "10000/10000 [==============================] - 102s 10ms/step - reward: 0.0142\n",
            "16 episodes - episode_reward: 9.250 [3.000, 15.000] - loss: 0.008 - mean_absolute_error: 0.141 - mean_q: 0.172 - mean_eps: 0.834 - ale.lives: 2.220\n",
            "\n",
            "Interval 20 (190000 steps performed)\n",
            "10000/10000 [==============================] - 102s 10ms/step - reward: 0.0161\n",
            "15 episodes - episode_reward: 10.667 [1.000, 26.000] - loss: 0.008 - mean_absolute_error: 0.156 - mean_q: 0.189 - mean_eps: 0.825 - ale.lives: 1.975\n",
            "\n",
            "Interval 21 (200000 steps performed)\n",
            "10000/10000 [==============================] - 102s 10ms/step - reward: 0.0136\n",
            "14 episodes - episode_reward: 10.000 [4.000, 21.000] - loss: 0.008 - mean_absolute_error: 0.170 - mean_q: 0.205 - mean_eps: 0.816 - ale.lives: 2.053\n",
            "\n",
            "Interval 22 (210000 steps performed)\n",
            "10000/10000 [==============================] - 96s 10ms/step - reward: 0.0135\n",
            "15 episodes - episode_reward: 8.933 [3.000, 17.000] - loss: 0.007 - mean_absolute_error: 0.181 - mean_q: 0.218 - mean_eps: 0.807 - ale.lives: 1.961\n",
            "\n",
            "Interval 23 (220000 steps performed)\n",
            "10000/10000 [==============================] - 91s 9ms/step - reward: 0.0139\n",
            "13 episodes - episode_reward: 11.000 [4.000, 19.000] - loss: 0.007 - mean_absolute_error: 0.198 - mean_q: 0.239 - mean_eps: 0.798 - ale.lives: 2.119\n",
            "\n",
            "Interval 24 (230000 steps performed)\n",
            "10000/10000 [==============================] - 93s 9ms/step - reward: 0.0152\n",
            "13 episodes - episode_reward: 10.692 [3.000, 22.000] - loss: 0.008 - mean_absolute_error: 0.220 - mean_q: 0.266 - mean_eps: 0.789 - ale.lives: 2.098\n",
            "\n",
            "Interval 25 (240000 steps performed)\n",
            "10000/10000 [==============================] - 92s 9ms/step - reward: 0.0153\n",
            "19 episodes - episode_reward: 8.737 [2.000, 23.000] - loss: 0.006 - mean_absolute_error: 0.230 - mean_q: 0.278 - mean_eps: 0.780 - ale.lives: 2.149\n",
            "\n",
            "Interval 26 (250000 steps performed)\n",
            "10000/10000 [==============================] - 92s 9ms/step - reward: 0.0157\n",
            "12 episodes - episode_reward: 12.417 [5.000, 27.000] - loss: 0.007 - mean_absolute_error: 0.246 - mean_q: 0.301 - mean_eps: 0.770 - ale.lives: 2.137\n",
            "\n",
            "Interval 27 (260000 steps performed)\n",
            "10000/10000 [==============================] - 93s 9ms/step - reward: 0.0147\n",
            "11 episodes - episode_reward: 12.545 [6.000, 22.000] - loss: 0.007 - mean_absolute_error: 0.242 - mean_q: 0.293 - mean_eps: 0.762 - ale.lives: 1.965\n",
            "\n",
            "Interval 28 (270000 steps performed)\n",
            "10000/10000 [==============================] - 93s 9ms/step - reward: 0.0147\n",
            "14 episodes - episode_reward: 11.429 [3.000, 23.000] - loss: 0.007 - mean_absolute_error: 0.255 - mean_q: 0.308 - mean_eps: 0.753 - ale.lives: 1.914\n",
            "\n",
            "Interval 29 (280000 steps performed)\n",
            "10000/10000 [==============================] - 91s 9ms/step - reward: 0.0139\n",
            "16 episodes - episode_reward: 8.812 [2.000, 16.000] - loss: 0.007 - mean_absolute_error: 0.264 - mean_q: 0.320 - mean_eps: 0.743 - ale.lives: 2.106\n",
            "\n",
            "Interval 30 (290000 steps performed)\n",
            "10000/10000 [==============================] - 90s 9ms/step - reward: 0.0176\n",
            "13 episodes - episode_reward: 13.462 [2.000, 26.000] - loss: 0.007 - mean_absolute_error: 0.267 - mean_q: 0.323 - mean_eps: 0.735 - ale.lives: 2.038\n",
            "\n",
            "Interval 31 (300000 steps performed)\n",
            "10000/10000 [==============================] - 90s 9ms/step - reward: 0.0158\n",
            "13 episodes - episode_reward: 12.308 [5.000, 30.000] - loss: 0.007 - mean_absolute_error: 0.277 - mean_q: 0.335 - mean_eps: 0.726 - ale.lives: 1.993\n",
            "\n",
            "Interval 32 (310000 steps performed)\n",
            "10000/10000 [==============================] - 92s 9ms/step - reward: 0.0163\n",
            "13 episodes - episode_reward: 12.154 [2.000, 26.000] - loss: 0.007 - mean_absolute_error: 0.292 - mean_q: 0.354 - mean_eps: 0.716 - ale.lives: 1.962\n",
            "\n",
            "Interval 33 (320000 steps performed)\n",
            "10000/10000 [==============================] - 94s 9ms/step - reward: 0.0143\n",
            "12 episodes - episode_reward: 12.333 [5.000, 24.000] - loss: 0.008 - mean_absolute_error: 0.298 - mean_q: 0.360 - mean_eps: 0.708 - ale.lives: 2.047\n",
            "\n",
            "Interval 34 (330000 steps performed)\n",
            "10000/10000 [==============================] - 93s 9ms/step - reward: 0.0159\n",
            "14 episodes - episode_reward: 11.429 [4.000, 22.000] - loss: 0.007 - mean_absolute_error: 0.303 - mean_q: 0.366 - mean_eps: 0.699 - ale.lives: 2.098\n",
            "\n",
            "Interval 35 (340000 steps performed)\n",
            "10000/10000 [==============================] - 92s 9ms/step - reward: 0.0154\n",
            "14 episodes - episode_reward: 10.643 [3.000, 21.000] - loss: 0.008 - mean_absolute_error: 0.317 - mean_q: 0.383 - mean_eps: 0.690 - ale.lives: 2.088\n",
            "\n",
            "Interval 36 (350000 steps performed)\n",
            "10000/10000 [==============================] - 94s 9ms/step - reward: 0.0150\n",
            "13 episodes - episode_reward: 11.462 [5.000, 21.000] - loss: 0.009 - mean_absolute_error: 0.324 - mean_q: 0.390 - mean_eps: 0.681 - ale.lives: 2.036\n",
            "\n",
            "Interval 37 (360000 steps performed)\n",
            "10000/10000 [==============================] - 94s 9ms/step - reward: 0.0142\n",
            "13 episodes - episode_reward: 10.923 [6.000, 23.000] - loss: 0.007 - mean_absolute_error: 0.329 - mean_q: 0.398 - mean_eps: 0.672 - ale.lives: 2.074\n",
            "\n",
            "Interval 38 (370000 steps performed)\n",
            "10000/10000 [==============================] - 91s 9ms/step - reward: 0.0149\n",
            "13 episodes - episode_reward: 11.462 [4.000, 16.000] - loss: 0.007 - mean_absolute_error: 0.343 - mean_q: 0.413 - mean_eps: 0.662 - ale.lives: 2.102\n",
            "\n",
            "Interval 39 (380000 steps performed)\n",
            "10000/10000 [==============================] - 92s 9ms/step - reward: 0.0153\n",
            "14 episodes - episode_reward: 10.857 [5.000, 17.000] - loss: 0.007 - mean_absolute_error: 0.355 - mean_q: 0.428 - mean_eps: 0.654 - ale.lives: 2.053\n",
            "\n",
            "Interval 40 (390000 steps performed)\n",
            "10000/10000 [==============================] - 91s 9ms/step - reward: 0.0154\n",
            "14 episodes - episode_reward: 11.357 [6.000, 19.000] - loss: 0.008 - mean_absolute_error: 0.361 - mean_q: 0.434 - mean_eps: 0.645 - ale.lives: 2.008\n",
            "\n",
            "Interval 41 (400000 steps performed)\n",
            "10000/10000 [==============================] - 93s 9ms/step - reward: 0.0139\n",
            "12 episodes - episode_reward: 11.083 [5.000, 18.000] - loss: 0.008 - mean_absolute_error: 0.369 - mean_q: 0.446 - mean_eps: 0.635 - ale.lives: 2.075\n",
            "\n",
            "Interval 42 (410000 steps performed)\n",
            "10000/10000 [==============================] - 97s 10ms/step - reward: 0.0151\n",
            "14 episodes - episode_reward: 10.857 [5.000, 19.000] - loss: 0.007 - mean_absolute_error: 0.377 - mean_q: 0.456 - mean_eps: 0.627 - ale.lives: 2.120\n",
            "\n",
            "Interval 43 (420000 steps performed)\n",
            "10000/10000 [==============================] - 101s 10ms/step - reward: 0.0164\n",
            "16 episodes - episode_reward: 10.625 [2.000, 20.000] - loss: 0.007 - mean_absolute_error: 0.376 - mean_q: 0.454 - mean_eps: 0.618 - ale.lives: 2.096\n",
            "\n",
            "Interval 44 (430000 steps performed)\n",
            "10000/10000 [==============================] - 98s 10ms/step - reward: 0.0144\n",
            "11 episodes - episode_reward: 12.636 [8.000, 19.000] - loss: 0.008 - mean_absolute_error: 0.387 - mean_q: 0.469 - mean_eps: 0.608 - ale.lives: 2.000\n",
            "\n",
            "Interval 45 (440000 steps performed)\n",
            "10000/10000 [==============================] - 102s 10ms/step - reward: 0.0137\n",
            "11 episodes - episode_reward: 12.091 [3.000, 19.000] - loss: 0.006 - mean_absolute_error: 0.399 - mean_q: 0.484 - mean_eps: 0.600 - ale.lives: 1.931\n",
            "\n",
            "Interval 46 (450000 steps performed)\n",
            "10000/10000 [==============================] - 109s 11ms/step - reward: 0.0156\n",
            "14 episodes - episode_reward: 11.357 [4.000, 26.000] - loss: 0.007 - mean_absolute_error: 0.412 - mean_q: 0.499 - mean_eps: 0.591 - ale.lives: 1.965\n",
            "\n",
            "Interval 47 (460000 steps performed)\n",
            "10000/10000 [==============================] - 99s 10ms/step - reward: 0.0146\n",
            "13 episodes - episode_reward: 11.308 [5.000, 17.000] - loss: 0.008 - mean_absolute_error: 0.413 - mean_q: 0.499 - mean_eps: 0.582 - ale.lives: 2.024\n",
            "\n",
            "Interval 48 (470000 steps performed)\n",
            "10000/10000 [==============================] - 96s 10ms/step - reward: 0.0136\n",
            "14 episodes - episode_reward: 10.143 [5.000, 18.000] - loss: 0.008 - mean_absolute_error: 0.432 - mean_q: 0.523 - mean_eps: 0.573 - ale.lives: 2.041\n",
            "\n",
            "Interval 49 (480000 steps performed)\n",
            "10000/10000 [==============================] - 103s 10ms/step - reward: 0.0133\n",
            "12 episodes - episode_reward: 10.583 [3.000, 17.000] - loss: 0.008 - mean_absolute_error: 0.449 - mean_q: 0.543 - mean_eps: 0.564 - ale.lives: 1.957\n",
            "\n",
            "Interval 50 (490000 steps performed)\n",
            "10000/10000 [==============================] - 97s 10ms/step - reward: 0.0166\n",
            "12 episodes - episode_reward: 14.000 [7.000, 21.000] - loss: 0.007 - mean_absolute_error: 0.451 - mean_q: 0.546 - mean_eps: 0.554 - ale.lives: 2.078\n",
            "\n",
            "Interval 51 (500000 steps performed)\n",
            "10000/10000 [==============================] - 97s 10ms/step - reward: 0.0154\n",
            "13 episodes - episode_reward: 11.769 [2.000, 28.000] - loss: 0.007 - mean_absolute_error: 0.460 - mean_q: 0.556 - mean_eps: 0.546 - ale.lives: 2.102\n",
            "\n",
            "Interval 52 (510000 steps performed)\n",
            "10000/10000 [==============================] - 98s 10ms/step - reward: 0.0138\n",
            "11 episodes - episode_reward: 11.636 [3.000, 18.000] - loss: 0.008 - mean_absolute_error: 0.473 - mean_q: 0.569 - mean_eps: 0.537 - ale.lives: 1.966\n",
            "\n",
            "Interval 53 (520000 steps performed)\n",
            "10000/10000 [==============================] - 97s 10ms/step - reward: 0.0155\n",
            "15 episodes - episode_reward: 11.333 [2.000, 21.000] - loss: 0.008 - mean_absolute_error: 0.477 - mean_q: 0.575 - mean_eps: 0.527 - ale.lives: 2.009\n",
            "\n",
            "Interval 54 (530000 steps performed)\n",
            "10000/10000 [==============================] - 100s 10ms/step - reward: 0.0144\n",
            "13 episodes - episode_reward: 10.000 [4.000, 27.000] - loss: 0.008 - mean_absolute_error: 0.482 - mean_q: 0.581 - mean_eps: 0.519 - ale.lives: 2.019\n",
            "\n",
            "Interval 55 (540000 steps performed)\n",
            "10000/10000 [==============================] - 99s 10ms/step - reward: 0.0145\n",
            "14 episodes - episode_reward: 10.786 [4.000, 24.000] - loss: 0.007 - mean_absolute_error: 0.488 - mean_q: 0.589 - mean_eps: 0.510 - ale.lives: 2.070\n",
            "\n",
            "Interval 56 (550000 steps performed)\n",
            "10000/10000 [==============================] - 102s 10ms/step - reward: 0.0158\n",
            "14 episodes - episode_reward: 10.500 [1.000, 19.000] - loss: 0.006 - mean_absolute_error: 0.494 - mean_q: 0.597 - mean_eps: 0.500 - ale.lives: 1.947\n",
            "\n",
            "Interval 57 (560000 steps performed)\n",
            "10000/10000 [==============================] - 96s 10ms/step - reward: 0.0144\n",
            "11 episodes - episode_reward: 13.364 [5.000, 24.000] - loss: 0.008 - mean_absolute_error: 0.495 - mean_q: 0.596 - mean_eps: 0.492 - ale.lives: 1.953\n",
            "\n",
            "Interval 58 (570000 steps performed)\n",
            "10000/10000 [==============================] - 101s 10ms/step - reward: 0.0180\n",
            "14 episodes - episode_reward: 13.571 [6.000, 24.000] - loss: 0.008 - mean_absolute_error: 0.500 - mean_q: 0.602 - mean_eps: 0.483 - ale.lives: 2.016\n",
            "\n",
            "Interval 59 (580000 steps performed)\n",
            "10000/10000 [==============================] - 101s 10ms/step - reward: 0.0116\n",
            "10 episodes - episode_reward: 11.300 [3.000, 18.000] - loss: 0.008 - mean_absolute_error: 0.499 - mean_q: 0.601 - mean_eps: 0.474 - ale.lives: 1.858\n",
            "\n",
            "Interval 60 (590000 steps performed)\n",
            "10000/10000 [==============================] - 100s 10ms/step - reward: 0.0150\n",
            "12 episodes - episode_reward: 12.000 [7.000, 16.000] - loss: 0.008 - mean_absolute_error: 0.512 - mean_q: 0.621 - mean_eps: 0.465 - ale.lives: 2.047\n",
            "\n",
            "Interval 61 (600000 steps performed)\n",
            "10000/10000 [==============================] - 98s 10ms/step - reward: 0.0148\n",
            "14 episodes - episode_reward: 11.286 [6.000, 17.000] - loss: 0.008 - mean_absolute_error: 0.525 - mean_q: 0.634 - mean_eps: 0.456 - ale.lives: 2.070\n",
            "\n",
            "Interval 62 (610000 steps performed)\n",
            "10000/10000 [==============================] - 104s 10ms/step - reward: 0.0130\n",
            "15 episodes - episode_reward: 8.467 [3.000, 19.000] - loss: 0.008 - mean_absolute_error: 0.520 - mean_q: 0.626 - mean_eps: 0.447 - ale.lives: 1.969\n",
            "\n",
            "Interval 63 (620000 steps performed)\n",
            "10000/10000 [==============================] - 104s 10ms/step - reward: 0.0154\n",
            "11 episodes - episode_reward: 13.273 [5.000, 23.000] - loss: 0.007 - mean_absolute_error: 0.524 - mean_q: 0.633 - mean_eps: 0.438 - ale.lives: 2.039\n",
            "\n",
            "Interval 64 (630000 steps performed)\n",
            "10000/10000 [==============================] - 108s 11ms/step - reward: 0.0139\n",
            "12 episodes - episode_reward: 12.833 [6.000, 21.000] - loss: 0.008 - mean_absolute_error: 0.523 - mean_q: 0.630 - mean_eps: 0.429 - ale.lives: 1.992\n",
            "\n",
            "Interval 65 (640000 steps performed)\n",
            "10000/10000 [==============================] - 103s 10ms/step - reward: 0.0147\n",
            "10 episodes - episode_reward: 14.300 [5.000, 25.000] - loss: 0.007 - mean_absolute_error: 0.526 - mean_q: 0.638 - mean_eps: 0.419 - ale.lives: 2.104\n",
            "\n",
            "Interval 66 (650000 steps performed)\n",
            "10000/10000 [==============================] - 100s 10ms/step - reward: 0.0173\n",
            "13 episodes - episode_reward: 13.077 [7.000, 20.000] - loss: 0.007 - mean_absolute_error: 0.531 - mean_q: 0.640 - mean_eps: 0.411 - ale.lives: 1.951\n",
            "\n",
            "Interval 67 (660000 steps performed)\n",
            "10000/10000 [==============================] - 104s 10ms/step - reward: 0.0146\n",
            "11 episodes - episode_reward: 13.091 [10.000, 16.000] - loss: 0.008 - mean_absolute_error: 0.534 - mean_q: 0.645 - mean_eps: 0.402 - ale.lives: 2.150\n",
            "\n",
            "Interval 68 (670000 steps performed)\n",
            "10000/10000 [==============================] - 104s 10ms/step - reward: 0.0136\n",
            "13 episodes - episode_reward: 11.154 [1.000, 21.000] - loss: 0.007 - mean_absolute_error: 0.542 - mean_q: 0.653 - mean_eps: 0.393 - ale.lives: 1.961\n",
            "\n",
            "Interval 69 (680000 steps performed)\n",
            "10000/10000 [==============================] - 99s 10ms/step - reward: 0.0148\n",
            "12 episodes - episode_reward: 12.000 [6.000, 20.000] - loss: 0.008 - mean_absolute_error: 0.538 - mean_q: 0.650 - mean_eps: 0.384 - ale.lives: 2.037\n",
            "\n",
            "Interval 70 (690000 steps performed)\n",
            "10000/10000 [==============================] - 96s 10ms/step - reward: 0.0150\n",
            "12 episodes - episode_reward: 12.417 [8.000, 19.000] - loss: 0.008 - mean_absolute_error: 0.552 - mean_q: 0.668 - mean_eps: 0.375 - ale.lives: 2.018\n",
            "\n",
            "Interval 71 (700000 steps performed)\n",
            "10000/10000 [==============================] - 103s 10ms/step - reward: 0.0141\n",
            "12 episodes - episode_reward: 11.417 [6.000, 16.000] - loss: 0.007 - mean_absolute_error: 0.564 - mean_q: 0.682 - mean_eps: 0.365 - ale.lives: 1.849\n",
            "\n",
            "Interval 72 (710000 steps performed)\n",
            "10000/10000 [==============================] - 109s 11ms/step - reward: 0.0159\n",
            "10 episodes - episode_reward: 16.400 [7.000, 28.000] - loss: 0.007 - mean_absolute_error: 0.570 - mean_q: 0.689 - mean_eps: 0.357 - ale.lives: 2.108\n",
            "\n",
            "Interval 73 (720000 steps performed)\n",
            "10000/10000 [==============================] - 101s 10ms/step - reward: 0.0154\n",
            "12 episodes - episode_reward: 13.250 [4.000, 24.000] - loss: 0.006 - mean_absolute_error: 0.570 - mean_q: 0.688 - mean_eps: 0.348 - ale.lives: 1.945\n",
            "\n",
            "Interval 74 (730000 steps performed)\n",
            "10000/10000 [==============================] - 96s 10ms/step - reward: 0.0143\n",
            "12 episodes - episode_reward: 10.833 [2.000, 22.000] - loss: 0.008 - mean_absolute_error: 0.570 - mean_q: 0.688 - mean_eps: 0.338 - ale.lives: 1.999\n",
            "\n",
            "Interval 75 (740000 steps performed)\n",
            "10000/10000 [==============================] - 102s 10ms/step - reward: 0.0138\n",
            "14 episodes - episode_reward: 10.786 [7.000, 18.000] - loss: 0.007 - mean_absolute_error: 0.580 - mean_q: 0.699 - mean_eps: 0.330 - ale.lives: 2.136\n",
            "\n",
            "Interval 76 (750000 steps performed)\n",
            "10000/10000 [==============================] - 103s 10ms/step - reward: 0.0144\n",
            "11 episodes - episode_reward: 12.727 [6.000, 17.000] - loss: 0.008 - mean_absolute_error: 0.588 - mean_q: 0.710 - mean_eps: 0.321 - ale.lives: 2.047\n",
            "\n",
            "Interval 77 (760000 steps performed)\n",
            "10000/10000 [==============================] - 104s 10ms/step - reward: 0.0165\n",
            "11 episodes - episode_reward: 15.000 [9.000, 25.000] - loss: 0.009 - mean_absolute_error: 0.605 - mean_q: 0.730 - mean_eps: 0.311 - ale.lives: 1.833\n",
            "\n",
            "Interval 78 (770000 steps performed)\n",
            "10000/10000 [==============================] - 101s 10ms/step - reward: 0.0149\n",
            "11 episodes - episode_reward: 13.909 [9.000, 23.000] - loss: 0.006 - mean_absolute_error: 0.604 - mean_q: 0.729 - mean_eps: 0.303 - ale.lives: 1.916\n",
            "\n",
            "Interval 79 (780000 steps performed)\n",
            "10000/10000 [==============================] - 106s 11ms/step - reward: 0.0140\n",
            "12 episodes - episode_reward: 11.167 [2.000, 16.000] - loss: 0.008 - mean_absolute_error: 0.607 - mean_q: 0.732 - mean_eps: 0.294 - ale.lives: 2.086\n",
            "\n",
            "Interval 80 (790000 steps performed)\n",
            "10000/10000 [==============================] - 98s 10ms/step - reward: 0.0125\n",
            "14 episodes - episode_reward: 9.071 [2.000, 17.000] - loss: 0.008 - mean_absolute_error: 0.609 - mean_q: 0.735 - mean_eps: 0.284 - ale.lives: 2.018\n",
            "\n",
            "Interval 81 (800000 steps performed)\n",
            "10000/10000 [==============================] - 101s 10ms/step - reward: 0.0122\n",
            "12 episodes - episode_reward: 9.333 [4.000, 14.000] - loss: 0.007 - mean_absolute_error: 0.610 - mean_q: 0.736 - mean_eps: 0.276 - ale.lives: 1.968\n",
            "\n",
            "Interval 82 (810000 steps performed)\n",
            "10000/10000 [==============================] - 104s 10ms/step - reward: 0.0128\n",
            "13 episodes - episode_reward: 10.846 [5.000, 17.000] - loss: 0.007 - mean_absolute_error: 0.616 - mean_q: 0.744 - mean_eps: 0.267 - ale.lives: 1.884\n",
            "\n",
            "Interval 83 (820000 steps performed)\n",
            "10000/10000 [==============================] - 106s 11ms/step - reward: 0.0129\n",
            "12 episodes - episode_reward: 10.250 [3.000, 25.000] - loss: 0.007 - mean_absolute_error: 0.620 - mean_q: 0.749 - mean_eps: 0.257 - ale.lives: 2.142\n",
            "\n",
            "Interval 84 (830000 steps performed)\n",
            "10000/10000 [==============================] - 106s 11ms/step - reward: 0.0141\n",
            "10 episodes - episode_reward: 13.400 [7.000, 18.000] - loss: 0.008 - mean_absolute_error: 0.626 - mean_q: 0.755 - mean_eps: 0.249 - ale.lives: 1.936\n",
            "\n",
            "Interval 85 (840000 steps performed)\n",
            "10000/10000 [==============================] - 106s 11ms/step - reward: 0.0136\n",
            "11 episodes - episode_reward: 13.455 [6.000, 24.000] - loss: 0.007 - mean_absolute_error: 0.627 - mean_q: 0.756 - mean_eps: 0.240 - ale.lives: 1.929\n",
            "\n",
            "Interval 86 (850000 steps performed)\n",
            "10000/10000 [==============================] - 109s 11ms/step - reward: 0.0127\n",
            "10 episodes - episode_reward: 12.700 [10.000, 16.000] - loss: 0.006 - mean_absolute_error: 0.639 - mean_q: 0.771 - mean_eps: 0.230 - ale.lives: 1.887\n",
            "\n",
            "Interval 87 (860000 steps performed)\n",
            "10000/10000 [==============================] - 101s 10ms/step - reward: 0.0144\n",
            "11 episodes - episode_reward: 12.727 [4.000, 21.000] - loss: 0.008 - mean_absolute_error: 0.647 - mean_q: 0.779 - mean_eps: 0.222 - ale.lives: 1.950\n",
            "\n",
            "Interval 88 (870000 steps performed)\n",
            "10000/10000 [==============================] - 106s 11ms/step - reward: 0.0123\n",
            "11 episodes - episode_reward: 11.182 [6.000, 16.000] - loss: 0.007 - mean_absolute_error: 0.653 - mean_q: 0.787 - mean_eps: 0.213 - ale.lives: 1.870\n",
            "\n",
            "Interval 89 (880000 steps performed)\n",
            "10000/10000 [==============================] - 104s 10ms/step - reward: 0.0136\n",
            "11 episodes - episode_reward: 12.091 [6.000, 26.000] - loss: 0.008 - mean_absolute_error: 0.659 - mean_q: 0.795 - mean_eps: 0.203 - ale.lives: 2.068\n",
            "\n",
            "Interval 90 (890000 steps performed)\n",
            "10000/10000 [==============================] - 106s 11ms/step - reward: 0.0155\n",
            "12 episodes - episode_reward: 12.750 [6.000, 21.000] - loss: 0.007 - mean_absolute_error: 0.650 - mean_q: 0.782 - mean_eps: 0.195 - ale.lives: 2.021\n",
            "\n",
            "Interval 91 (900000 steps performed)\n",
            "10000/10000 [==============================] - 103s 10ms/step - reward: 0.0137\n",
            "10 episodes - episode_reward: 14.800 [10.000, 22.000] - loss: 0.007 - mean_absolute_error: 0.658 - mean_q: 0.794 - mean_eps: 0.186 - ale.lives: 1.969\n",
            "\n",
            "Interval 92 (910000 steps performed)\n",
            "10000/10000 [==============================] - 103s 10ms/step - reward: 0.0134\n",
            "9 episodes - episode_reward: 13.667 [3.000, 26.000] - loss: 0.008 - mean_absolute_error: 0.669 - mean_q: 0.807 - mean_eps: 0.176 - ale.lives: 1.919\n",
            "\n",
            "Interval 93 (920000 steps performed)\n",
            "10000/10000 [==============================] - 105s 11ms/step - reward: 0.0135\n",
            "11 episodes - episode_reward: 12.727 [3.000, 25.000] - loss: 0.008 - mean_absolute_error: 0.674 - mean_q: 0.813 - mean_eps: 0.168 - ale.lives: 2.036\n",
            "\n",
            "Interval 94 (930000 steps performed)\n",
            "10000/10000 [==============================] - 107s 11ms/step - reward: 0.0123\n",
            "12 episodes - episode_reward: 10.000 [5.000, 14.000] - loss: 0.007 - mean_absolute_error: 0.691 - mean_q: 0.833 - mean_eps: 0.159 - ale.lives: 2.072\n",
            "\n",
            "Interval 95 (940000 steps performed)\n",
            "10000/10000 [==============================] - 99s 10ms/step - reward: 0.0131\n",
            "11 episodes - episode_reward: 11.818 [6.000, 17.000] - loss: 0.007 - mean_absolute_error: 0.711 - mean_q: 0.859 - mean_eps: 0.149 - ale.lives: 2.018\n",
            "\n",
            "Interval 96 (950000 steps performed)\n",
            "10000/10000 [==============================] - 102s 10ms/step - reward: 0.0129\n",
            "12 episodes - episode_reward: 11.000 [2.000, 18.000] - loss: 0.008 - mean_absolute_error: 0.720 - mean_q: 0.869 - mean_eps: 0.141 - ale.lives: 2.005\n",
            "\n",
            "Interval 97 (960000 steps performed)\n",
            "10000/10000 [==============================] - 97s 10ms/step - reward: 0.0154\n",
            "11 episodes - episode_reward: 13.636 [4.000, 20.000] - loss: 0.008 - mean_absolute_error: 0.734 - mean_q: 0.885 - mean_eps: 0.132 - ale.lives: 2.088\n",
            "\n",
            "Interval 98 (970000 steps performed)\n",
            "10000/10000 [==============================] - 98s 10ms/step - reward: 0.0163\n",
            "12 episodes - episode_reward: 13.833 [6.000, 20.000] - loss: 0.008 - mean_absolute_error: 0.743 - mean_q: 0.898 - mean_eps: 0.122 - ale.lives: 2.044\n",
            "\n",
            "Interval 99 (980000 steps performed)\n",
            "10000/10000 [==============================] - 92s 9ms/step - reward: 0.0139\n",
            "10 episodes - episode_reward: 13.400 [4.000, 25.000] - loss: 0.008 - mean_absolute_error: 0.753 - mean_q: 0.907 - mean_eps: 0.114 - ale.lives: 1.991\n",
            "\n",
            "Interval 100 (990000 steps performed)\n",
            "10000/10000 [==============================] - 93s 9ms/step - reward: 0.0114\n",
            "10 episodes - episode_reward: 12.100 [5.000, 18.000] - loss: 0.008 - mean_absolute_error: 0.756 - mean_q: 0.912 - mean_eps: 0.105 - ale.lives: 2.044\n",
            "\n",
            "Interval 101 (1000000 steps performed)\n",
            "10000/10000 [==============================] - 93s 9ms/step - reward: 0.0108\n",
            "13 episodes - episode_reward: 8.769 [5.000, 13.000] - loss: 0.007 - mean_absolute_error: 0.758 - mean_q: 0.913 - mean_eps: 0.100 - ale.lives: 1.971\n",
            "\n",
            "Interval 102 (1010000 steps performed)\n",
            "10000/10000 [==============================] - 93s 9ms/step - reward: 0.0153\n",
            "11 episodes - episode_reward: 13.909 [7.000, 21.000] - loss: 0.008 - mean_absolute_error: 0.751 - mean_q: 0.905 - mean_eps: 0.100 - ale.lives: 1.980\n",
            "\n",
            "Interval 103 (1020000 steps performed)\n",
            "10000/10000 [==============================] - 93s 9ms/step - reward: 0.0160\n",
            "10 episodes - episode_reward: 16.000 [3.000, 30.000] - loss: 0.009 - mean_absolute_error: 0.756 - mean_q: 0.912 - mean_eps: 0.100 - ale.lives: 2.078\n",
            "\n",
            "Interval 104 (1030000 steps performed)\n",
            "10000/10000 [==============================] - 93s 9ms/step - reward: 0.0141\n",
            "11 episodes - episode_reward: 11.727 [4.000, 16.000] - loss: 0.007 - mean_absolute_error: 0.758 - mean_q: 0.915 - mean_eps: 0.100 - ale.lives: 1.997\n",
            "\n",
            "Interval 105 (1040000 steps performed)\n",
            "10000/10000 [==============================] - 93s 9ms/step - reward: 0.0131\n",
            "12 episodes - episode_reward: 11.000 [5.000, 19.000] - loss: 0.008 - mean_absolute_error: 0.767 - mean_q: 0.923 - mean_eps: 0.100 - ale.lives: 2.055\n",
            "\n",
            "Interval 106 (1050000 steps performed)\n",
            "10000/10000 [==============================] - 93s 9ms/step - reward: 0.0111\n",
            "13 episodes - episode_reward: 9.154 [5.000, 17.000] - loss: 0.008 - mean_absolute_error: 0.778 - mean_q: 0.938 - mean_eps: 0.100 - ale.lives: 2.001\n",
            "\n",
            "Interval 107 (1060000 steps performed)\n",
            "10000/10000 [==============================] - 92s 9ms/step - reward: 0.0107\n",
            "13 episodes - episode_reward: 7.385 [3.000, 11.000] - loss: 0.007 - mean_absolute_error: 0.774 - mean_q: 0.932 - mean_eps: 0.100 - ale.lives: 1.982\n",
            "\n",
            "Interval 108 (1070000 steps performed)\n",
            "10000/10000 [==============================] - 92s 9ms/step - reward: 0.0106\n",
            "10 episodes - episode_reward: 11.900 [3.000, 20.000] - loss: 0.009 - mean_absolute_error: 0.789 - mean_q: 0.949 - mean_eps: 0.100 - ale.lives: 1.891\n",
            "\n",
            "Interval 109 (1080000 steps performed)\n",
            "10000/10000 [==============================] - 94s 9ms/step - reward: 0.0107\n",
            "10 episodes - episode_reward: 9.700 [4.000, 19.000] - loss: 0.008 - mean_absolute_error: 0.796 - mean_q: 0.957 - mean_eps: 0.100 - ale.lives: 1.891\n",
            "\n",
            "Interval 110 (1090000 steps performed)\n",
            "10000/10000 [==============================] - 92s 9ms/step - reward: 0.0151\n",
            "11 episodes - episode_reward: 13.818 [2.000, 22.000] - loss: 0.009 - mean_absolute_error: 0.796 - mean_q: 0.960 - mean_eps: 0.100 - ale.lives: 1.893\n",
            "\n",
            "Interval 111 (1100000 steps performed)\n",
            "10000/10000 [==============================] - 92s 9ms/step - reward: 0.0158\n",
            "12 episodes - episode_reward: 13.000 [6.000, 19.000] - loss: 0.008 - mean_absolute_error: 0.807 - mean_q: 0.974 - mean_eps: 0.100 - ale.lives: 2.011\n",
            "\n",
            "Interval 112 (1110000 steps performed)\n",
            "10000/10000 [==============================] - 92s 9ms/step - reward: 0.0110\n",
            "11 episodes - episode_reward: 10.909 [3.000, 20.000] - loss: 0.008 - mean_absolute_error: 0.827 - mean_q: 0.997 - mean_eps: 0.100 - ale.lives: 2.055\n",
            "\n",
            "Interval 113 (1120000 steps performed)\n",
            "10000/10000 [==============================] - 92s 9ms/step - reward: 0.0126\n",
            "12 episodes - episode_reward: 9.750 [1.000, 21.000] - loss: 0.008 - mean_absolute_error: 0.822 - mean_q: 0.989 - mean_eps: 0.100 - ale.lives: 2.018\n",
            "\n",
            "Interval 114 (1130000 steps performed)\n",
            "10000/10000 [==============================] - 93s 9ms/step - reward: 0.0136\n",
            "9 episodes - episode_reward: 14.778 [7.000, 21.000] - loss: 0.008 - mean_absolute_error: 0.822 - mean_q: 0.991 - mean_eps: 0.100 - ale.lives: 1.819\n",
            "\n",
            "Interval 115 (1140000 steps performed)\n",
            "10000/10000 [==============================] - 95s 9ms/step - reward: 0.0121\n",
            "11 episodes - episode_reward: 11.727 [4.000, 20.000] - loss: 0.007 - mean_absolute_error: 0.823 - mean_q: 0.993 - mean_eps: 0.100 - ale.lives: 1.905\n",
            "\n",
            "Interval 116 (1150000 steps performed)\n",
            "10000/10000 [==============================] - 94s 9ms/step - reward: 0.0130\n",
            "11 episodes - episode_reward: 11.182 [6.000, 18.000] - loss: 0.008 - mean_absolute_error: 0.828 - mean_q: 0.999 - mean_eps: 0.100 - ale.lives: 1.980\n",
            "\n",
            "Interval 117 (1160000 steps performed)\n",
            "10000/10000 [==============================] - 93s 9ms/step - reward: 0.0108\n",
            "11 episodes - episode_reward: 9.636 [3.000, 17.000] - loss: 0.008 - mean_absolute_error: 0.825 - mean_q: 0.994 - mean_eps: 0.100 - ale.lives: 1.967\n",
            "\n",
            "Interval 118 (1170000 steps performed)\n",
            "10000/10000 [==============================] - 92s 9ms/step - reward: 0.0155\n",
            "11 episodes - episode_reward: 15.182 [6.000, 30.000] - loss: 0.007 - mean_absolute_error: 0.831 - mean_q: 1.002 - mean_eps: 0.100 - ale.lives: 1.965\n",
            "\n",
            "Interval 119 (1180000 steps performed)\n",
            "10000/10000 [==============================] - 91s 9ms/step - reward: 0.0151\n",
            "10 episodes - episode_reward: 14.400 [8.000, 20.000] - loss: 0.008 - mean_absolute_error: 0.821 - mean_q: 0.990 - mean_eps: 0.100 - ale.lives: 1.963\n",
            "\n",
            "Interval 120 (1190000 steps performed)\n",
            "10000/10000 [==============================] - 91s 9ms/step - reward: 0.0142\n",
            "11 episodes - episode_reward: 13.273 [5.000, 20.000] - loss: 0.008 - mean_absolute_error: 0.826 - mean_q: 0.997 - mean_eps: 0.100 - ale.lives: 2.063\n",
            "\n",
            "Interval 121 (1200000 steps performed)\n",
            "10000/10000 [==============================] - 93s 9ms/step - reward: 0.0130\n",
            "11 episodes - episode_reward: 12.000 [5.000, 16.000] - loss: 0.008 - mean_absolute_error: 0.819 - mean_q: 0.987 - mean_eps: 0.100 - ale.lives: 1.995\n",
            "\n",
            "Interval 122 (1210000 steps performed)\n",
            "10000/10000 [==============================] - 93s 9ms/step - reward: 0.0132\n",
            "10 episodes - episode_reward: 13.400 [10.000, 23.000] - loss: 0.007 - mean_absolute_error: 0.827 - mean_q: 0.998 - mean_eps: 0.100 - ale.lives: 1.934\n",
            "\n",
            "Interval 123 (1220000 steps performed)\n",
            "10000/10000 [==============================] - 94s 9ms/step - reward: 0.0134\n",
            "12 episodes - episode_reward: 10.583 [2.000, 19.000] - loss: 0.008 - mean_absolute_error: 0.830 - mean_q: 1.000 - mean_eps: 0.100 - ale.lives: 2.117\n",
            "\n",
            "Interval 124 (1230000 steps performed)\n",
            "10000/10000 [==============================] - 94s 9ms/step - reward: 0.0126\n",
            "12 episodes - episode_reward: 10.583 [3.000, 20.000] - loss: 0.008 - mean_absolute_error: 0.841 - mean_q: 1.016 - mean_eps: 0.100 - ale.lives: 2.044\n",
            "\n",
            "Interval 125 (1240000 steps performed)\n",
            "10000/10000 [==============================] - 93s 9ms/step - reward: 0.0142\n",
            "9 episodes - episode_reward: 15.778 [4.000, 23.000] - loss: 0.009 - mean_absolute_error: 0.851 - mean_q: 1.026 - mean_eps: 0.100 - ale.lives: 1.805\n",
            "\n",
            "Interval 126 (1250000 steps performed)\n",
            "10000/10000 [==============================] - 94s 9ms/step - reward: 0.0139\n",
            "11 episodes - episode_reward: 13.000 [6.000, 17.000] - loss: 0.009 - mean_absolute_error: 0.851 - mean_q: 1.028 - mean_eps: 0.100 - ale.lives: 1.962\n",
            "\n",
            "Interval 127 (1260000 steps performed)\n",
            "10000/10000 [==============================] - 94s 9ms/step - reward: 0.0130\n",
            "10 episodes - episode_reward: 12.400 [5.000, 18.000] - loss: 0.008 - mean_absolute_error: 0.861 - mean_q: 1.037 - mean_eps: 0.100 - ale.lives: 1.981\n",
            "\n",
            "Interval 128 (1270000 steps performed)\n",
            "10000/10000 [==============================] - 94s 9ms/step - reward: 0.0142\n",
            "10 episodes - episode_reward: 13.800 [8.000, 20.000] - loss: 0.008 - mean_absolute_error: 0.870 - mean_q: 1.049 - mean_eps: 0.100 - ale.lives: 2.030\n",
            "\n",
            "Interval 129 (1280000 steps performed)\n",
            "10000/10000 [==============================] - 94s 9ms/step - reward: 0.0137\n",
            "11 episodes - episode_reward: 12.636 [5.000, 22.000] - loss: 0.008 - mean_absolute_error: 0.875 - mean_q: 1.057 - mean_eps: 0.100 - ale.lives: 1.911\n",
            "\n",
            "Interval 130 (1290000 steps performed)\n",
            "10000/10000 [==============================] - 94s 9ms/step - reward: 0.0159\n",
            "11 episodes - episode_reward: 14.909 [6.000, 20.000] - loss: 0.007 - mean_absolute_error: 0.883 - mean_q: 1.066 - mean_eps: 0.100 - ale.lives: 2.096\n",
            "\n",
            "Interval 131 (1300000 steps performed)\n",
            "10000/10000 [==============================] - 94s 9ms/step - reward: 0.0148\n",
            "9 episodes - episode_reward: 16.889 [7.000, 24.000] - loss: 0.008 - mean_absolute_error: 0.893 - mean_q: 1.077 - mean_eps: 0.100 - ale.lives: 1.911\n",
            "\n",
            "Interval 132 (1310000 steps performed)\n",
            "10000/10000 [==============================] - 95s 9ms/step - reward: 0.0112\n",
            "11 episodes - episode_reward: 10.455 [4.000, 19.000] - loss: 0.009 - mean_absolute_error: 0.905 - mean_q: 1.091 - mean_eps: 0.100 - ale.lives: 2.105\n",
            "\n",
            "Interval 133 (1320000 steps performed)\n",
            "10000/10000 [==============================] - 96s 10ms/step - reward: 0.0136\n",
            "12 episodes - episode_reward: 11.333 [3.000, 25.000] - loss: 0.009 - mean_absolute_error: 0.922 - mean_q: 1.110 - mean_eps: 0.100 - ale.lives: 1.919\n",
            "\n",
            "Interval 134 (1330000 steps performed)\n",
            " 6139/10000 [=================>............] - ETA: 36s - reward: 0.0112"
          ]
        }
      ]
    },
    {
      "cell_type": "code",
      "metadata": {
        "id": "kh73Zryr9IRv"
      },
      "source": [
        "# Testing part to calculate the mean reward\n",
        "weights_filename = 'dqn_{}_weights_1500000.h5'.format(env_name)\n",
        "dqn.load_weights(weights_filename)\n",
        "dqn.test(env, nb_episodes=10, visualize=False)"
      ],
      "execution_count": null,
      "outputs": []
    },
    {
      "cell_type": "code",
      "metadata": {
        "id": "hsXA-F6GW3UU"
      },
      "source": [
        "# Testing part to calculate the mean reward\n",
        "weights_filename = 'dqn_{}_weights_1750000.h5'.format(env_name)\n",
        "dqn.load_weights(weights_filename)\n",
        "dqn.test(env, nb_episodes=50, visualize=False)"
      ],
      "execution_count": null,
      "outputs": []
    },
    {
      "cell_type": "markdown",
      "metadata": {
        "id": "jvm7X4_KuxBJ"
      },
      "source": [
        ""
      ]
    }
  ]
}